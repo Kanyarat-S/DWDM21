{
  "nbformat": 4,
  "nbformat_minor": 0,
  "metadata": {
    "colab": {
      "name": "Distance Numpy.ipynb",
      "provenance": [],
      "authorship_tag": "ABX9TyPMLD9NAGN61wBvcDzaCDF2",
      "include_colab_link": true
    },
    "kernelspec": {
      "name": "python3",
      "display_name": "Python 3"
    },
    "language_info": {
      "name": "python"
    }
  },
  "cells": [
    {
      "cell_type": "markdown",
      "metadata": {
        "id": "view-in-github",
        "colab_type": "text"
      },
      "source": [
        "<a href=\"https://colab.research.google.com/github/Kanyarat-S/DWDM21/blob/main/Distance_Numpy.ipynb\" target=\"_parent\"><img src=\"https://colab.research.google.com/assets/colab-badge.svg\" alt=\"Open In Colab\"/></a>"
      ]
    },
    {
      "cell_type": "code",
      "metadata": {
        "id": "UHksS4DWcrtG"
      },
      "source": [
        "import numpy as np # package สำหรับทำงานกับ ข้อูลที่เป็นตัวเลข {อยู่ในรูปแบบ matrix}"
      ],
      "execution_count": 2,
      "outputs": []
    },
    {
      "cell_type": "markdown",
      "metadata": {
        "id": "E6dMx9Z9drd7"
      },
      "source": [
        "## Numpy Array"
      ]
    },
    {
      "cell_type": "markdown",
      "metadata": {
        "id": "qsGu_58bdwOs"
      },
      "source": [
        "สร้าง Numpy Array"
      ]
    },
    {
      "cell_type": "code",
      "metadata": {
        "id": "Uh-xV4pSdpd0"
      },
      "source": [
        "np_a = np.array([[1,2,3],[4,5,6]]) #สร้าง numpy array ที่มี 2 แถว 3 หลัก"
      ],
      "execution_count": 3,
      "outputs": []
    },
    {
      "cell_type": "code",
      "metadata": {
        "colab": {
          "base_uri": "https://localhost:8080/"
        },
        "id": "bsa1ztdizds7",
        "outputId": "95a5de4a-f1f2-4097-8e8a-cbf2f67ecfab"
      },
      "source": [
        "np_a"
      ],
      "execution_count": 4,
      "outputs": [
        {
          "output_type": "execute_result",
          "data": {
            "text/plain": [
              "array([[1, 2, 3],\n",
              "       [4, 5, 6]])"
            ]
          },
          "metadata": {},
          "execution_count": 4
        }
      ]
    },
    {
      "cell_type": "code",
      "metadata": {
        "colab": {
          "base_uri": "https://localhost:8080/"
        },
        "id": "-TYD0C8JzhlO",
        "outputId": "4ae81499-dabf-49c3-c772-8df2cbc3b2c7"
      },
      "source": [
        "np_a.shape"
      ],
      "execution_count": 5,
      "outputs": [
        {
          "output_type": "execute_result",
          "data": {
            "text/plain": [
              "(2, 3)"
            ]
          },
          "metadata": {},
          "execution_count": 5
        }
      ]
    },
    {
      "cell_type": "code",
      "metadata": {
        "colab": {
          "base_uri": "https://localhost:8080/"
        },
        "id": "RQd-b2kXziMW",
        "outputId": "b28a294b-eb9b-4e80-a4c0-5460af8ccf5c"
      },
      "source": [
        "np_b = np.array([[1,4],[2,5],[3,6]])\n",
        "np_b"
      ],
      "execution_count": 6,
      "outputs": [
        {
          "output_type": "execute_result",
          "data": {
            "text/plain": [
              "array([[1, 4],\n",
              "       [2, 5],\n",
              "       [3, 6]])"
            ]
          },
          "metadata": {},
          "execution_count": 6
        }
      ]
    },
    {
      "cell_type": "markdown",
      "metadata": {
        "id": "ovqOpAdYzozd"
      },
      "source": [
        "### matrix transpose"
      ]
    },
    {
      "cell_type": "code",
      "metadata": {
        "colab": {
          "base_uri": "https://localhost:8080/"
        },
        "id": "NBXAugpszmDT",
        "outputId": "e1482d08-e385-4427-9f90-2cddb0986b03"
      },
      "source": [
        "np_a.T"
      ],
      "execution_count": 7,
      "outputs": [
        {
          "output_type": "execute_result",
          "data": {
            "text/plain": [
              "array([[1, 4],\n",
              "       [2, 5],\n",
              "       [3, 6]])"
            ]
          },
          "metadata": {},
          "execution_count": 7
        }
      ]
    },
    {
      "cell_type": "markdown",
      "metadata": {
        "id": "vVdFkkqUzv1V"
      },
      "source": [
        "### สร้าง matrix เริ่มต้น (zeros, ones)"
      ]
    },
    {
      "cell_type": "code",
      "metadata": {
        "colab": {
          "base_uri": "https://localhost:8080/"
        },
        "id": "Zj2bOk2Iztgz",
        "outputId": "8e5a12ca-2b4e-471b-d85d-a20e3fda2403"
      },
      "source": [
        "np_z = np.zeros((4,5))\n",
        "np_z"
      ],
      "execution_count": 8,
      "outputs": [
        {
          "output_type": "execute_result",
          "data": {
            "text/plain": [
              "array([[0., 0., 0., 0., 0.],\n",
              "       [0., 0., 0., 0., 0.],\n",
              "       [0., 0., 0., 0., 0.],\n",
              "       [0., 0., 0., 0., 0.]])"
            ]
          },
          "metadata": {},
          "execution_count": 8
        }
      ]
    },
    {
      "cell_type": "code",
      "metadata": {
        "colab": {
          "base_uri": "https://localhost:8080/"
        },
        "id": "t64Rn4HIz0g7",
        "outputId": "46e2e445-7a9d-4f6d-874c-2dbef8450ac8"
      },
      "source": [
        "np_o = np.ones((5,6))\n",
        "np_o"
      ],
      "execution_count": 9,
      "outputs": [
        {
          "output_type": "execute_result",
          "data": {
            "text/plain": [
              "array([[1., 1., 1., 1., 1., 1.],\n",
              "       [1., 1., 1., 1., 1., 1.],\n",
              "       [1., 1., 1., 1., 1., 1.],\n",
              "       [1., 1., 1., 1., 1., 1.],\n",
              "       [1., 1., 1., 1., 1., 1.]])"
            ]
          },
          "metadata": {},
          "execution_count": 9
        }
      ]
    },
    {
      "cell_type": "code",
      "metadata": {
        "colab": {
          "base_uri": "https://localhost:8080/"
        },
        "id": "knKVHRLsz3Bl",
        "outputId": "9ad42b0c-87f6-4556-d6ac-002e33bb552a"
      },
      "source": [
        "np_200 = 200 * np.ones((4,7)) #อยากได้ค่า matrix 200 ถ้าอยากได้ค่าไหนให้เอาค่านั้นมาคูณ\n",
        "np_200"
      ],
      "execution_count": 10,
      "outputs": [
        {
          "output_type": "execute_result",
          "data": {
            "text/plain": [
              "array([[200., 200., 200., 200., 200., 200., 200.],\n",
              "       [200., 200., 200., 200., 200., 200., 200.],\n",
              "       [200., 200., 200., 200., 200., 200., 200.],\n",
              "       [200., 200., 200., 200., 200., 200., 200.]])"
            ]
          },
          "metadata": {},
          "execution_count": 10
        }
      ]
    },
    {
      "cell_type": "markdown",
      "metadata": {
        "id": "enhhrvSez8oa"
      },
      "source": [
        "### สร้าง matrix random"
      ]
    },
    {
      "cell_type": "code",
      "metadata": {
        "colab": {
          "base_uri": "https://localhost:8080/"
        },
        "id": "sdX4kaZSz6Sd",
        "outputId": "aee15b0c-3b2e-4d72-83d5-47df750240e0"
      },
      "source": [
        "np.random.rand(5,5) #random เลขมาจาก normal distribution ที่มี mu = 0 std = 1"
      ],
      "execution_count": 11,
      "outputs": [
        {
          "output_type": "execute_result",
          "data": {
            "text/plain": [
              "array([[0.05082801, 0.34448351, 0.74618865, 0.84351681, 0.400677  ],\n",
              "       [0.83967215, 0.85235598, 0.91740999, 0.02372842, 0.18080406],\n",
              "       [0.45243677, 0.92544144, 0.50114641, 0.55678671, 0.67991482],\n",
              "       [0.99601647, 0.36984585, 0.92556748, 0.92915502, 0.39070426],\n",
              "       [0.96561375, 0.89420207, 0.49603778, 0.84966708, 0.8055756 ]])"
            ]
          },
          "metadata": {},
          "execution_count": 11
        }
      ]
    },
    {
      "cell_type": "code",
      "metadata": {
        "colab": {
          "base_uri": "https://localhost:8080/"
        },
        "id": "rq1djTEC0Aq9",
        "outputId": "1ef8da7c-3248-4bfb-b72f-dc1ea6fcc4ec"
      },
      "source": [
        "2+(5*np.random.rand(3,3)) #random เลขมาจาก normal distribution ที่มี mu = 2 std = 5"
      ],
      "execution_count": 12,
      "outputs": [
        {
          "output_type": "execute_result",
          "data": {
            "text/plain": [
              "array([[6.12036909, 5.01249555, 3.23847331],\n",
              "       [3.87057734, 4.59523995, 6.23957321],\n",
              "       [6.85312721, 4.95317021, 2.64246698]])"
            ]
          },
          "metadata": {},
          "execution_count": 12
        }
      ]
    },
    {
      "cell_type": "code",
      "metadata": {
        "colab": {
          "base_uri": "https://localhost:8080/"
        },
        "id": "y37iKpzh0FKk",
        "outputId": "0c01eabe-33aa-4ef5-dac6-139b6bc7aee6"
      },
      "source": [
        "np.random.randint(5,11,(4,5)) #random เลขจำนวนเต็มระหว่าง (5,11) ขนาด (4x5)"
      ],
      "execution_count": 13,
      "outputs": [
        {
          "output_type": "execute_result",
          "data": {
            "text/plain": [
              "array([[10,  6, 10, 10,  6],\n",
              "       [ 7,  7,  8,  9,  5],\n",
              "       [ 7,  5,  7, 10,  6],\n",
              "       [ 9,  8,  7,  8,  8]])"
            ]
          },
          "metadata": {},
          "execution_count": 13
        }
      ]
    },
    {
      "cell_type": "code",
      "metadata": {
        "id": "BbYMot-W0Knu"
      },
      "source": [
        ""
      ],
      "execution_count": null,
      "outputs": []
    }
  ]
}