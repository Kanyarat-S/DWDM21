{
  "nbformat": 4,
  "nbformat_minor": 0,
  "metadata": {
    "colab": {
      "name": "Data101 (Chapter2).ipynb",
      "provenance": [],
      "authorship_tag": "ABX9TyP+4ewPwV5i1pdFIGPs1gZa",
      "include_colab_link": true
    },
    "kernelspec": {
      "name": "python3",
      "display_name": "Python 3"
    },
    "language_info": {
      "name": "python"
    }
  },
  "cells": [
    {
      "cell_type": "markdown",
      "metadata": {
        "id": "view-in-github",
        "colab_type": "text"
      },
      "source": [
        "<a href=\"https://colab.research.google.com/github/Kanyarat-S/DWDM21/blob/main/Data101_(Chapter2).ipynb\" target=\"_parent\"><img src=\"https://colab.research.google.com/assets/colab-badge.svg\" alt=\"Open In Colab\"/></a>"
      ]
    },
    {
      "cell_type": "markdown",
      "metadata": {
        "id": "-2Tybpyfz1Zi"
      },
      "source": [
        "ข้อความที่อยู่ใน texbox จะเป็นภาษา markdowm"
      ]
    },
    {
      "cell_type": "markdown",
      "metadata": {
        "id": "EZNIEegDtond"
      },
      "source": [
        "ข้อดีหนึ่งของ python คือมี package สำหรับทำงานต่างๆมากมาย\n",
        "\n",
        "ซึง pandas เป็น package สำหรับการทำงานกับข้อมูลที่อยู่ในรูปแบบตาราง\n",
        "\n",
        "โดย pandas จะเรียกตารางนั้นว่า dataframe"
      ]
    },
    {
      "cell_type": "code",
      "metadata": {
        "id": "a-_aTMMyr4lj"
      },
      "source": [
        "import pandas # วิธีเรียกใช้ package คือ impot ตามด้วยชื่อ package"
      ],
      "execution_count": null,
      "outputs": []
    },
    {
      "cell_type": "code",
      "metadata": {
        "id": "zk-BzljrtAOc"
      },
      "source": [
        "import pandas as pd # เหมือนกับข้างบนแต่ว่า ตั้งชื่อให้ package ที่โหลดมาใหม่ว่า pd"
      ],
      "execution_count": null,
      "outputs": []
    },
    {
      "cell_type": "markdown",
      "metadata": {
        "id": "4qYvS6eiutij"
      },
      "source": [
        "ไฟล์ .csv (CSV = comma separated values) เป็นไฟล์หลักที่เราจะได้ใช้กันในวิชานี้\n"
      ]
    },
    {
      "cell_type": "code",
      "metadata": {
        "id": "Yfswv3rDujiD"
      },
      "source": [
        "data_df = pd.read_csv('data.csv')"
      ],
      "execution_count": null,
      "outputs": []
    },
    {
      "cell_type": "code",
      "metadata": {
        "colab": {
          "base_uri": "https://localhost:8080/",
          "height": 142
        },
        "id": "J4x4HzEWxVAi",
        "outputId": "1ffda496-18f7-433d-ce40-092d009c588c"
      },
      "source": [
        "data_df"
      ],
      "execution_count": null,
      "outputs": [
        {
          "output_type": "execute_result",
          "data": {
            "text/html": [
              "<div>\n",
              "<style scoped>\n",
              "    .dataframe tbody tr th:only-of-type {\n",
              "        vertical-align: middle;\n",
              "    }\n",
              "\n",
              "    .dataframe tbody tr th {\n",
              "        vertical-align: top;\n",
              "    }\n",
              "\n",
              "    .dataframe thead th {\n",
              "        text-align: right;\n",
              "    }\n",
              "</style>\n",
              "<table border=\"1\" class=\"dataframe\">\n",
              "  <thead>\n",
              "    <tr style=\"text-align: right;\">\n",
              "      <th></th>\n",
              "      <th>name</th>\n",
              "      <th>age</th>\n",
              "      <th>city</th>\n",
              "    </tr>\n",
              "  </thead>\n",
              "  <tbody>\n",
              "    <tr>\n",
              "      <th>0</th>\n",
              "      <td>Tom</td>\n",
              "      <td>27</td>\n",
              "      <td>Khon Kaen</td>\n",
              "    </tr>\n",
              "    <tr>\n",
              "      <th>1</th>\n",
              "      <td>Paul</td>\n",
              "      <td>15</td>\n",
              "      <td>Bangkok</td>\n",
              "    </tr>\n",
              "    <tr>\n",
              "      <th>2</th>\n",
              "      <td>Sarah</td>\n",
              "      <td>49</td>\n",
              "      <td>London</td>\n",
              "    </tr>\n",
              "  </tbody>\n",
              "</table>\n",
              "</div>"
            ],
            "text/plain": [
              "    name  age       city\n",
              "0    Tom   27  Khon Kaen\n",
              "1   Paul   15    Bangkok\n",
              "2  Sarah   49     London"
            ]
          },
          "metadata": {
            "tags": []
          },
          "execution_count": 15
        }
      ]
    },
    {
      "cell_type": "code",
      "metadata": {
        "colab": {
          "base_uri": "https://localhost:8080/",
          "height": 142
        },
        "id": "JrsUlGqKyCPM",
        "outputId": "644a7159-e54e-4019-83e4-b18c0b7d3378"
      },
      "source": [
        "data_df2 = pandas.read_csv('data.csv')\n",
        "data_df2"
      ],
      "execution_count": null,
      "outputs": [
        {
          "output_type": "execute_result",
          "data": {
            "text/html": [
              "<div>\n",
              "<style scoped>\n",
              "    .dataframe tbody tr th:only-of-type {\n",
              "        vertical-align: middle;\n",
              "    }\n",
              "\n",
              "    .dataframe tbody tr th {\n",
              "        vertical-align: top;\n",
              "    }\n",
              "\n",
              "    .dataframe thead th {\n",
              "        text-align: right;\n",
              "    }\n",
              "</style>\n",
              "<table border=\"1\" class=\"dataframe\">\n",
              "  <thead>\n",
              "    <tr style=\"text-align: right;\">\n",
              "      <th></th>\n",
              "      <th>name</th>\n",
              "      <th>age</th>\n",
              "      <th>city</th>\n",
              "    </tr>\n",
              "  </thead>\n",
              "  <tbody>\n",
              "    <tr>\n",
              "      <th>0</th>\n",
              "      <td>Tom</td>\n",
              "      <td>27</td>\n",
              "      <td>Khon Kaen</td>\n",
              "    </tr>\n",
              "    <tr>\n",
              "      <th>1</th>\n",
              "      <td>Paul</td>\n",
              "      <td>15</td>\n",
              "      <td>Bangkok</td>\n",
              "    </tr>\n",
              "    <tr>\n",
              "      <th>2</th>\n",
              "      <td>Sarah</td>\n",
              "      <td>49</td>\n",
              "      <td>London</td>\n",
              "    </tr>\n",
              "  </tbody>\n",
              "</table>\n",
              "</div>"
            ],
            "text/plain": [
              "    name  age       city\n",
              "0    Tom   27  Khon Kaen\n",
              "1   Paul   15    Bangkok\n",
              "2  Sarah   49     London"
            ]
          },
          "metadata": {
            "tags": []
          },
          "execution_count": 16
        }
      ]
    },
    {
      "cell_type": "markdown",
      "metadata": {
        "id": "0VnFggbXylcy"
      },
      "source": [
        "# Basic Python\n",
        "## Variable"
      ]
    },
    {
      "cell_type": "markdown",
      "metadata": {
        "id": "ZBDx0Nn91ixS"
      },
      "source": [
        "ข้อกำหนดในการตั้งชื่อตัวแปร\n",
        "\n",
        "1. ชื่อห้ามมีเว้นวรรค\n",
        "2. (พยายามใช้) ใช้ภาษาอังกฤษ\n",
        "3. ตัวเล็กกับตัวใหญ่แตกต่างกัน (case sensitive)\n",
        "4. ห้ามใช้ตัวเลขเป็นตัวหน้า"
      ]
    },
    {
      "cell_type": "code",
      "metadata": {
        "id": "3WG9kUZpyIXG"
      },
      "source": [
        "variable_a = 12\n",
        "variable_b = 'abcde' # เรียกว่า quote\n",
        "variable_c = variable_a"
      ],
      "execution_count": null,
      "outputs": []
    },
    {
      "cell_type": "code",
      "metadata": {
        "colab": {
          "base_uri": "https://localhost:8080/"
        },
        "id": "gv5819JK1IQ4",
        "outputId": "b6a3cbc5-fac8-4d9d-bfea-1fa4923c6d58"
      },
      "source": [
        "variable_a"
      ],
      "execution_count": null,
      "outputs": [
        {
          "output_type": "execute_result",
          "data": {
            "text/plain": [
              "12"
            ]
          },
          "metadata": {
            "tags": []
          },
          "execution_count": 18
        }
      ]
    },
    {
      "cell_type": "code",
      "metadata": {
        "colab": {
          "base_uri": "https://localhost:8080/",
          "height": 35
        },
        "id": "Bvr7wk7j1NST",
        "outputId": "eba8c8e4-a60f-453e-dbef-cbdabc6922ad"
      },
      "source": [
        "variable_b"
      ],
      "execution_count": null,
      "outputs": [
        {
          "output_type": "execute_result",
          "data": {
            "application/vnd.google.colaboratory.intrinsic+json": {
              "type": "string"
            },
            "text/plain": [
              "'abcde'"
            ]
          },
          "metadata": {
            "tags": []
          },
          "execution_count": 19
        }
      ]
    },
    {
      "cell_type": "code",
      "metadata": {
        "colab": {
          "base_uri": "https://localhost:8080/"
        },
        "id": "80nwyqz01bOw",
        "outputId": "098c96db-8a5a-4af1-846f-8b2e926ad828"
      },
      "source": [
        "variable_c"
      ],
      "execution_count": null,
      "outputs": [
        {
          "output_type": "execute_result",
          "data": {
            "text/plain": [
              "12"
            ]
          },
          "metadata": {
            "tags": []
          },
          "execution_count": 20
        }
      ]
    },
    {
      "cell_type": "code",
      "metadata": {
        "colab": {
          "base_uri": "https://localhost:8080/",
          "height": 130
        },
        "id": "gNWTtQ6X1eEL",
        "outputId": "be6bbca7-4a60-401f-cc40-525655b9cf52"
      },
      "source": [
        "variable a 6\n"
      ],
      "execution_count": null,
      "outputs": [
        {
          "output_type": "error",
          "ename": "SyntaxError",
          "evalue": "ignored",
          "traceback": [
            "\u001b[0;36m  File \u001b[0;32m\"<ipython-input-22-9c550c60531c>\"\u001b[0;36m, line \u001b[0;32m1\u001b[0m\n\u001b[0;31m    variable a 6\u001b[0m\n\u001b[0m             ^\u001b[0m\n\u001b[0;31mSyntaxError\u001b[0m\u001b[0;31m:\u001b[0m invalid syntax\n"
          ]
        }
      ]
    },
    {
      "cell_type": "code",
      "metadata": {
        "colab": {
          "base_uri": "https://localhost:8080/"
        },
        "id": "bwsIRVzP2lee",
        "outputId": "353990a8-4cf8-439c-b188-2280dd8280a8"
      },
      "source": [
        "# (พยายามใช้) ใช้ภาษาอังกฤษ\n",
        "# colab ใช้ภาษาไทยเป็นตัวแปรได้ แต่ไม่ควรใช้\n",
        "ตัวแปร = 3\n",
        "ตัวแปร\n"
      ],
      "execution_count": null,
      "outputs": [
        {
          "output_type": "execute_result",
          "data": {
            "text/plain": [
              "3"
            ]
          },
          "metadata": {
            "tags": []
          },
          "execution_count": 23
        }
      ]
    },
    {
      "cell_type": "code",
      "metadata": {
        "colab": {
          "base_uri": "https://localhost:8080/"
        },
        "id": "phAHpvob2-_Y",
        "outputId": "45ffdf72-cd7f-4428-c863-a84de4f21191"
      },
      "source": [
        "#  ตัวเล็กกับตัวใหญ่แตกต่างกัน (case sensitive)\n",
        "v_a = 1\n",
        "v_a = 2\n",
        "print (v_a)\n",
        "print (v_a)"
      ],
      "execution_count": null,
      "outputs": [
        {
          "output_type": "stream",
          "text": [
            "2\n",
            "2\n"
          ],
          "name": "stdout"
        }
      ]
    },
    {
      "cell_type": "code",
      "metadata": {
        "colab": {
          "base_uri": "https://localhost:8080/",
          "height": 130
        },
        "id": "qPl2srII3w87",
        "outputId": "086740bb-86cb-4cbc-c7c3-4f1ac339d19b"
      },
      "source": [
        "# ห้ามใช้ตัวเลขเป็นตัวหน้า\n",
        "2ab = 1"
      ],
      "execution_count": null,
      "outputs": [
        {
          "output_type": "error",
          "ename": "SyntaxError",
          "evalue": "ignored",
          "traceback": [
            "\u001b[0;36m  File \u001b[0;32m\"<ipython-input-25-4a1c88deec89>\"\u001b[0;36m, line \u001b[0;32m2\u001b[0m\n\u001b[0;31m    2ab = 1\u001b[0m\n\u001b[0m      ^\u001b[0m\n\u001b[0;31mSyntaxError\u001b[0m\u001b[0;31m:\u001b[0m invalid syntax\n"
          ]
        }
      ]
    },
    {
      "cell_type": "code",
      "metadata": {
        "id": "x9QigaC64Fvg"
      },
      "source": [
        "# ห้ามใช้ตัวเลขเป็นตัวหน้า\n",
        "variable = 1\n"
      ],
      "execution_count": null,
      "outputs": []
    },
    {
      "cell_type": "code",
      "metadata": {
        "colab": {
          "base_uri": "https://localhost:8080/"
        },
        "id": "sbvYZfbu4OXp",
        "outputId": "f18cfee1-024e-4591-ffc3-10c0c9e871dd"
      },
      "source": [
        "print (variable)"
      ],
      "execution_count": null,
      "outputs": [
        {
          "output_type": "stream",
          "text": [
            "1\n"
          ],
          "name": "stdout"
        }
      ]
    },
    {
      "cell_type": "code",
      "metadata": {
        "id": "TYrtnLRW4TzM"
      },
      "source": [
        "variable_a = 12\n",
        "variable_b = 'abcde' # เรียกว่า quote\n",
        "variable_c = variable_a\n",
        "variable_d = -41.2\n",
        "variable_4 = \"KKU\" # \" เรียกว่า double quote"
      ],
      "execution_count": null,
      "outputs": []
    },
    {
      "cell_type": "code",
      "metadata": {
        "colab": {
          "base_uri": "https://localhost:8080/"
        },
        "id": "N-KMBFjP4v97",
        "outputId": "67ba0ead-4ae5-4f0d-ac40-55c952874d4b"
      },
      "source": [
        "variable_x = variable_c + variable_d\n",
        "print (variable_x)"
      ],
      "execution_count": null,
      "outputs": [
        {
          "output_type": "stream",
          "text": [
            "-29.200000000000003\n"
          ],
          "name": "stdout"
        }
      ]
    },
    {
      "cell_type": "code",
      "metadata": {
        "colab": {
          "base_uri": "https://localhost:8080/",
          "height": 163
        },
        "id": "1IxoM3tW5MeT",
        "outputId": "aca254ff-7420-40f0-923d-8086fd0ab077"
      },
      "source": [
        "variable_a + variable_b # ไม่สามารถบวกกันกันได้"
      ],
      "execution_count": null,
      "outputs": [
        {
          "output_type": "error",
          "ename": "TypeError",
          "evalue": "ignored",
          "traceback": [
            "\u001b[0;31m---------------------------------------------------------------------------\u001b[0m",
            "\u001b[0;31mTypeError\u001b[0m                                 Traceback (most recent call last)",
            "\u001b[0;32m<ipython-input-31-f9df22eca106>\u001b[0m in \u001b[0;36m<module>\u001b[0;34m()\u001b[0m\n\u001b[0;32m----> 1\u001b[0;31m \u001b[0mvariable_a\u001b[0m \u001b[0;34m+\u001b[0m \u001b[0mvariable_b\u001b[0m \u001b[0;31m# ไม่สามารถบวกกันกันได้\u001b[0m\u001b[0;34m\u001b[0m\u001b[0;34m\u001b[0m\u001b[0m\n\u001b[0m",
            "\u001b[0;31mTypeError\u001b[0m: unsupported operand type(s) for +: 'int' and 'str'"
          ]
        }
      ]
    },
    {
      "cell_type": "code",
      "metadata": {
        "colab": {
          "base_uri": "https://localhost:8080/"
        },
        "id": "vHUyuQr96Vvi",
        "outputId": "d3267d7e-859f-412c-c80d-665ce9b2ffd0"
      },
      "source": [
        "print (variable_b + variable_4)"
      ],
      "execution_count": null,
      "outputs": [
        {
          "output_type": "stream",
          "text": [
            "abcdeKKU\n"
          ],
          "name": "stdout"
        }
      ]
    },
    {
      "cell_type": "markdown",
      "metadata": {
        "id": "BpPXDvG87BEC"
      },
      "source": [
        "## Casting int ( ) Float ( ) str ( )"
      ]
    },
    {
      "cell_type": "code",
      "metadata": {
        "colab": {
          "base_uri": "https://localhost:8080/"
        },
        "id": "OBbMIbFv6iQP",
        "outputId": "955831d9-1bcf-4ef5-f9e4-a55a191afe8f"
      },
      "source": [
        "print (variable_x)\n",
        "print (int (variable_x))"
      ],
      "execution_count": null,
      "outputs": [
        {
          "output_type": "stream",
          "text": [
            "-29.200000000000003\n",
            "-29\n"
          ],
          "name": "stdout"
        }
      ]
    },
    {
      "cell_type": "code",
      "metadata": {
        "colab": {
          "base_uri": "https://localhost:8080/"
        },
        "id": "uYXaFV4D7gZG",
        "outputId": "04e516e3-8ec1-47fe-c5c1-6bc6f4ac4f3b"
      },
      "source": [
        "v_x = str (variable_x)\n",
        "print (v_x)"
      ],
      "execution_count": null,
      "outputs": [
        {
          "output_type": "stream",
          "text": [
            "-29.200000000000003\n"
          ],
          "name": "stdout"
        }
      ]
    },
    {
      "cell_type": "code",
      "metadata": {
        "colab": {
          "base_uri": "https://localhost:8080/",
          "height": 163
        },
        "id": "tveIv259751R",
        "outputId": "6357afd5-710f-421a-8369-4e2b43f4a773"
      },
      "source": [
        "v_x + variable_a"
      ],
      "execution_count": null,
      "outputs": [
        {
          "output_type": "error",
          "ename": "TypeError",
          "evalue": "ignored",
          "traceback": [
            "\u001b[0;31m---------------------------------------------------------------------------\u001b[0m",
            "\u001b[0;31mTypeError\u001b[0m                                 Traceback (most recent call last)",
            "\u001b[0;32m<ipython-input-37-56a2c943f160>\u001b[0m in \u001b[0;36m<module>\u001b[0;34m()\u001b[0m\n\u001b[0;32m----> 1\u001b[0;31m \u001b[0mv_x\u001b[0m \u001b[0;34m+\u001b[0m \u001b[0mvariable_a\u001b[0m\u001b[0;34m\u001b[0m\u001b[0;34m\u001b[0m\u001b[0m\n\u001b[0m",
            "\u001b[0;31mTypeError\u001b[0m: can only concatenate str (not \"int\") to str"
          ]
        }
      ]
    },
    {
      "cell_type": "code",
      "metadata": {
        "colab": {
          "base_uri": "https://localhost:8080/",
          "height": 163
        },
        "id": "oqKp-xKN8ZVS",
        "outputId": "7f281128-5e91-4bd2-ed2d-5077e2506ea2"
      },
      "source": [
        "variable_a + v_x"
      ],
      "execution_count": null,
      "outputs": [
        {
          "output_type": "error",
          "ename": "TypeError",
          "evalue": "ignored",
          "traceback": [
            "\u001b[0;31m---------------------------------------------------------------------------\u001b[0m",
            "\u001b[0;31mTypeError\u001b[0m                                 Traceback (most recent call last)",
            "\u001b[0;32m<ipython-input-38-a7da86a51b49>\u001b[0m in \u001b[0;36m<module>\u001b[0;34m()\u001b[0m\n\u001b[0;32m----> 1\u001b[0;31m \u001b[0mvariable_a\u001b[0m \u001b[0;34m+\u001b[0m \u001b[0mv_x\u001b[0m\u001b[0;34m\u001b[0m\u001b[0;34m\u001b[0m\u001b[0m\n\u001b[0m",
            "\u001b[0;31mTypeError\u001b[0m: unsupported operand type(s) for +: 'int' and 'str'"
          ]
        }
      ]
    },
    {
      "cell_type": "code",
      "metadata": {
        "colab": {
          "base_uri": "https://localhost:8080/",
          "height": 35
        },
        "id": "THBw5SFN8fbK",
        "outputId": "e58c5717-3e2e-439b-c3cf-5c55f52e0e95"
      },
      "source": [
        "v_x"
      ],
      "execution_count": null,
      "outputs": [
        {
          "output_type": "execute_result",
          "data": {
            "application/vnd.google.colaboratory.intrinsic+json": {
              "type": "string"
            },
            "text/plain": [
              "'-29.200000000000003'"
            ]
          },
          "metadata": {
            "tags": []
          },
          "execution_count": 39
        }
      ]
    },
    {
      "cell_type": "code",
      "metadata": {
        "colab": {
          "base_uri": "https://localhost:8080/"
        },
        "id": "6_dMPPlN8hWa",
        "outputId": "693ec0cc-edae-490e-cf63-edf637c05a13"
      },
      "source": [
        "float (v_x)"
      ],
      "execution_count": null,
      "outputs": [
        {
          "output_type": "execute_result",
          "data": {
            "text/plain": [
              "-29.200000000000003"
            ]
          },
          "metadata": {
            "tags": []
          },
          "execution_count": 40
        }
      ]
    },
    {
      "cell_type": "markdown",
      "metadata": {
        "id": "nIkUqzRv82J_"
      },
      "source": [
        "## Data Structure\n",
        "### List()"
      ]
    },
    {
      "cell_type": "code",
      "metadata": {
        "id": "X5FIp0PL8l4l"
      },
      "source": [
        "list_a = [1,2,0,2, 'abs' ] # [] square brackete\n",
        "list_b = [2, 'xyz' ,list_a, [1,2,0.0]]"
      ],
      "execution_count": null,
      "outputs": []
    },
    {
      "cell_type": "code",
      "metadata": {
        "colab": {
          "base_uri": "https://localhost:8080/"
        },
        "id": "vGC_A3re-GV2",
        "outputId": "a5568dcf-dba0-49e1-f10e-df7382c8c2aa"
      },
      "source": [
        "list_a"
      ],
      "execution_count": null,
      "outputs": [
        {
          "output_type": "execute_result",
          "data": {
            "text/plain": [
              "[1, 2, 0, 2, 'abs']"
            ]
          },
          "metadata": {
            "tags": []
          },
          "execution_count": 84
        }
      ]
    },
    {
      "cell_type": "code",
      "metadata": {
        "colab": {
          "base_uri": "https://localhost:8080/"
        },
        "id": "g7o7xMBK-I3c",
        "outputId": "91fa7fd2-13d0-445f-f385-f059b432a77c"
      },
      "source": [
        "list_b"
      ],
      "execution_count": null,
      "outputs": [
        {
          "output_type": "execute_result",
          "data": {
            "text/plain": [
              "[2, 'xyz', [1, 2, 0, 2, 'abs'], [1, 2, 0.0]]"
            ]
          },
          "metadata": {
            "tags": []
          },
          "execution_count": 85
        }
      ]
    },
    {
      "cell_type": "code",
      "metadata": {
        "colab": {
          "base_uri": "https://localhost:8080/"
        },
        "id": "0OaEI8ji-K8Z",
        "outputId": "95703098-d6a6-43e7-df77-0618fabb627c"
      },
      "source": [
        "len (list_b)"
      ],
      "execution_count": null,
      "outputs": [
        {
          "output_type": "execute_result",
          "data": {
            "text/plain": [
              "4"
            ]
          },
          "metadata": {
            "tags": []
          },
          "execution_count": 86
        }
      ]
    },
    {
      "cell_type": "code",
      "metadata": {
        "colab": {
          "base_uri": "https://localhost:8080/"
        },
        "id": "zCdNJbvl-RmS",
        "outputId": "4190eb9f-4ad7-408d-e226-6688cd3ed7f1"
      },
      "source": [
        "#ดึงค่า list ออกมา\n",
        "list_b[3]"
      ],
      "execution_count": null,
      "outputs": [
        {
          "output_type": "execute_result",
          "data": {
            "text/plain": [
              "[1, 2, 0.0]"
            ]
          },
          "metadata": {
            "tags": []
          },
          "execution_count": 79
        }
      ]
    },
    {
      "cell_type": "code",
      "metadata": {
        "colab": {
          "base_uri": "https://localhost:8080/"
        },
        "id": "_zFAeqCv-elH",
        "outputId": "cccef643-02f4-46c6-bac9-5fa9d947b363"
      },
      "source": [
        "list_b[3][1]"
      ],
      "execution_count": null,
      "outputs": [
        {
          "output_type": "execute_result",
          "data": {
            "text/plain": [
              "2"
            ]
          },
          "metadata": {
            "tags": []
          },
          "execution_count": 80
        }
      ]
    },
    {
      "cell_type": "markdown",
      "metadata": {
        "id": "iEPKHk8B-2W4"
      },
      "source": [
        "string คือ list ของ ตัวหนังสือ"
      ]
    },
    {
      "cell_type": "code",
      "metadata": {
        "id": "ld7U2cIr-kOh"
      },
      "source": [
        "a = 'Stat KKU'"
      ],
      "execution_count": null,
      "outputs": []
    },
    {
      "cell_type": "code",
      "metadata": {
        "colab": {
          "base_uri": "https://localhost:8080/",
          "height": 35
        },
        "id": "w0m6dEnB_Eoi",
        "outputId": "5ca99509-ab4b-497f-b784-5ed30e8fe8c8"
      },
      "source": [
        "a[4]"
      ],
      "execution_count": null,
      "outputs": [
        {
          "output_type": "execute_result",
          "data": {
            "application/vnd.google.colaboratory.intrinsic+json": {
              "type": "string"
            },
            "text/plain": [
              "' '"
            ]
          },
          "metadata": {
            "tags": []
          },
          "execution_count": 82
        }
      ]
    },
    {
      "cell_type": "markdown",
      "metadata": {
        "id": "DBXSQF9M_gz-"
      },
      "source": [
        "## วิธีสร้าง list ว่าง"
      ]
    },
    {
      "cell_type": "code",
      "metadata": {
        "id": "T7c7LwAn_KeB"
      },
      "source": [
        "list_c = list ( ) # แบบที่ 1\n",
        "list_d = [] # แบบที่ 2"
      ],
      "execution_count": null,
      "outputs": []
    },
    {
      "cell_type": "code",
      "metadata": {
        "colab": {
          "base_uri": "https://localhost:8080/"
        },
        "id": "rZbPzIxN_-b-",
        "outputId": "9dcaa3c0-2d0d-40b1-f7a6-fc9e0e8635ef"
      },
      "source": [
        "list_c"
      ],
      "execution_count": null,
      "outputs": [
        {
          "output_type": "execute_result",
          "data": {
            "text/plain": [
              "[]"
            ]
          },
          "metadata": {
            "tags": []
          },
          "execution_count": 50
        }
      ]
    },
    {
      "cell_type": "code",
      "metadata": {
        "colab": {
          "base_uri": "https://localhost:8080/"
        },
        "id": "RvkRsQW0AC7T",
        "outputId": "ca47fd5b-c752-46de-c95c-49409209dc9f"
      },
      "source": [
        "list_d"
      ],
      "execution_count": null,
      "outputs": [
        {
          "output_type": "execute_result",
          "data": {
            "text/plain": [
              "[]"
            ]
          },
          "metadata": {
            "tags": []
          },
          "execution_count": 88
        }
      ]
    },
    {
      "cell_type": "markdown",
      "metadata": {
        "id": "Xb_X4P_KAQRK"
      },
      "source": [
        "เติมค่าลงไปใน list (.append())"
      ]
    },
    {
      "cell_type": "code",
      "metadata": {
        "id": "oKvLHRvmAFwj"
      },
      "source": [
        "list_d. append ('a')"
      ],
      "execution_count": null,
      "outputs": []
    },
    {
      "cell_type": "code",
      "metadata": {
        "colab": {
          "base_uri": "https://localhost:8080/"
        },
        "id": "IT6fCDeuAwM7",
        "outputId": "ac404b58-2578-4df5-fca4-0d9852ac5da0"
      },
      "source": [
        "list_d"
      ],
      "execution_count": null,
      "outputs": [
        {
          "output_type": "execute_result",
          "data": {
            "text/plain": [
              "['a']"
            ]
          },
          "metadata": {
            "tags": []
          },
          "execution_count": 53
        }
      ]
    },
    {
      "cell_type": "code",
      "metadata": {
        "id": "GAic3CAbAyJ6"
      },
      "source": [
        "list_d. append (56)"
      ],
      "execution_count": null,
      "outputs": []
    },
    {
      "cell_type": "code",
      "metadata": {
        "colab": {
          "base_uri": "https://localhost:8080/"
        },
        "id": "RORph6y5A6jv",
        "outputId": "b893955d-da89-455f-ef31-0303f49bf1ec"
      },
      "source": [
        "list_d"
      ],
      "execution_count": null,
      "outputs": [
        {
          "output_type": "execute_result",
          "data": {
            "text/plain": [
              "['a', 56]"
            ]
          },
          "metadata": {
            "tags": []
          },
          "execution_count": 55
        }
      ]
    },
    {
      "cell_type": "markdown",
      "metadata": {
        "id": "JTLc9LgRBDFq"
      },
      "source": [
        "การชี้ค่าใน list (indexing)\n",
        "\n",
        "1. ใช้ลำดับในการชี้\n",
        "2. ลำดับเริ่มจาก 0\n",
        "3. สามารถชี้จากข้างหลังได้โดยใช้ negative index"
      ]
    },
    {
      "cell_type": "code",
      "metadata": {
        "colab": {
          "base_uri": "https://localhost:8080/"
        },
        "id": "Yag5piOqA8nO",
        "outputId": "38736cb7-0905-4f21-e318-329121ae31b5"
      },
      "source": [
        "list_b"
      ],
      "execution_count": null,
      "outputs": [
        {
          "output_type": "execute_result",
          "data": {
            "text/plain": [
              "[2, 'xyz', [1, 2, 0, 2, 'abs'], [1, 2, 0.0]]"
            ]
          },
          "metadata": {
            "tags": []
          },
          "execution_count": 56
        }
      ]
    },
    {
      "cell_type": "code",
      "metadata": {
        "colab": {
          "base_uri": "https://localhost:8080/"
        },
        "id": "zmtpSbJJBglt",
        "outputId": "95b1a0b7-0b46-43f4-ecf9-56128fc0179d"
      },
      "source": [
        "list_b [-1]"
      ],
      "execution_count": null,
      "outputs": [
        {
          "output_type": "execute_result",
          "data": {
            "text/plain": [
              "[1, 2, 0.0]"
            ]
          },
          "metadata": {
            "tags": []
          },
          "execution_count": 57
        }
      ]
    },
    {
      "cell_type": "markdown",
      "metadata": {
        "id": "pl0tjlDkCHKn"
      },
      "source": [
        "### list slicing"
      ]
    },
    {
      "cell_type": "code",
      "metadata": {
        "id": "htOqglZTBkAr"
      },
      "source": [
        "list_ex = [1,2,3,5,6,8,-1,20,50,0]"
      ],
      "execution_count": null,
      "outputs": []
    },
    {
      "cell_type": "markdown",
      "metadata": {
        "id": "If41cObdC-lH"
      },
      "source": [
        "เราจะตัด list โดยเอาตั้งแต่ [ตัวหน้า : ตัวก่อนตัวหลัง] \n",
        "\n",
        "ถ้าเป็นสัญลักษณ์คณิตศาสตร์ ->[ตัวหน้า,ตัวหลัง]"
      ]
    },
    {
      "cell_type": "code",
      "metadata": {
        "colab": {
          "base_uri": "https://localhost:8080/"
        },
        "id": "CIQgSJxzCWv0",
        "outputId": "7ac3b6fa-7ca7-483f-e334-c024e5e49c8a"
      },
      "source": [
        "list_ex[1:6] # เราจะตัด list โดยเอาตั้งแต่ [ตัวหน้า : ตัวก่อนตัวหลัง]"
      ],
      "execution_count": null,
      "outputs": [
        {
          "output_type": "execute_result",
          "data": {
            "text/plain": [
              "[2, 3, 5, 6, 8]"
            ]
          },
          "metadata": {
            "tags": []
          },
          "execution_count": 59
        }
      ]
    },
    {
      "cell_type": "code",
      "metadata": {
        "colab": {
          "base_uri": "https://localhost:8080/"
        },
        "id": "ghUuqDxIClkH",
        "outputId": "38ddd404-fb4d-45db-8792-377abf489045"
      },
      "source": [
        "list_ex[4:]"
      ],
      "execution_count": null,
      "outputs": [
        {
          "output_type": "execute_result",
          "data": {
            "text/plain": [
              "[6, 8, -1, 20, 50, 0]"
            ]
          },
          "metadata": {
            "tags": []
          },
          "execution_count": 60
        }
      ]
    },
    {
      "cell_type": "code",
      "metadata": {
        "colab": {
          "base_uri": "https://localhost:8080/"
        },
        "id": "4Vkw2q6FDb44",
        "outputId": "f1ced91e-8b09-444b-d5cf-732e61444b20"
      },
      "source": [
        "list_ex[:6]"
      ],
      "execution_count": null,
      "outputs": [
        {
          "output_type": "execute_result",
          "data": {
            "text/plain": [
              "[1, 2, 3, 5, 6, 8]"
            ]
          },
          "metadata": {
            "tags": []
          },
          "execution_count": 61
        }
      ]
    },
    {
      "cell_type": "markdown",
      "metadata": {
        "id": "mWhg2AKhEHy_"
      },
      "source": [
        "[จุดเริ่มต้น : จุดสุดท้าย : step]"
      ]
    },
    {
      "cell_type": "code",
      "metadata": {
        "colab": {
          "base_uri": "https://localhost:8080/"
        },
        "id": "etLAF43YEWRf",
        "outputId": "aebe7aa7-86cc-4d55-a28d-4e207297eac4"
      },
      "source": [
        "list_ex"
      ],
      "execution_count": null,
      "outputs": [
        {
          "output_type": "execute_result",
          "data": {
            "text/plain": [
              "[1, 2, 3, 5, 6, 8, -1, 20, 50, 0]"
            ]
          },
          "metadata": {
            "tags": []
          },
          "execution_count": 62
        }
      ]
    },
    {
      "cell_type": "code",
      "metadata": {
        "colab": {
          "base_uri": "https://localhost:8080/"
        },
        "id": "gVcLqq_eDi4l",
        "outputId": "ca19e33e-111a-4b36-aa4f-f80774b7f090"
      },
      "source": [
        "list_ex[: : 2]  # สามารถกำหนดด้านหน้าด้านหลังได้เหมือนกัน"
      ],
      "execution_count": null,
      "outputs": [
        {
          "output_type": "execute_result",
          "data": {
            "text/plain": [
              "[1, 3, 6, -1, 50]"
            ]
          },
          "metadata": {
            "tags": []
          },
          "execution_count": 63
        }
      ]
    },
    {
      "cell_type": "code",
      "metadata": {
        "colab": {
          "base_uri": "https://localhost:8080/"
        },
        "id": "TKiOfsGXEGiK",
        "outputId": "6229ff3d-2608-4e72-9fde-0f02abf4412a"
      },
      "source": [
        "list_ex[::-1] # การกลับ list"
      ],
      "execution_count": null,
      "outputs": [
        {
          "output_type": "execute_result",
          "data": {
            "text/plain": [
              "[0, 50, 20, -1, 8, 6, 5, 3, 2, 1]"
            ]
          },
          "metadata": {
            "tags": []
          },
          "execution_count": 64
        }
      ]
    },
    {
      "cell_type": "code",
      "metadata": {
        "colab": {
          "base_uri": "https://localhost:8080/",
          "height": 35
        },
        "id": "1j-TN8SFEy81",
        "outputId": "cdcc3bb1-7884-4eb4-ef2a-2c3f968466ba"
      },
      "source": [
        "a"
      ],
      "execution_count": null,
      "outputs": [
        {
          "output_type": "execute_result",
          "data": {
            "application/vnd.google.colaboratory.intrinsic+json": {
              "type": "string"
            },
            "text/plain": [
              "'Stat KKU'"
            ]
          },
          "metadata": {
            "tags": []
          },
          "execution_count": 65
        }
      ]
    },
    {
      "cell_type": "code",
      "metadata": {
        "colab": {
          "base_uri": "https://localhost:8080/",
          "height": 35
        },
        "id": "O1ANcWFUE4_w",
        "outputId": "da7fb51e-8d31-40d4-cfff-1b777708a8c7"
      },
      "source": [
        "a[5:]"
      ],
      "execution_count": null,
      "outputs": [
        {
          "output_type": "execute_result",
          "data": {
            "application/vnd.google.colaboratory.intrinsic+json": {
              "type": "string"
            },
            "text/plain": [
              "'KKU'"
            ]
          },
          "metadata": {
            "tags": []
          },
          "execution_count": 66
        }
      ]
    },
    {
      "cell_type": "code",
      "metadata": {
        "colab": {
          "base_uri": "https://localhost:8080/",
          "height": 35
        },
        "id": "lYp1_gA4Frvw",
        "outputId": "d51660f2-3ecc-4549-9ccd-070491ac7735"
      },
      "source": [
        "a[-3:]"
      ],
      "execution_count": null,
      "outputs": [
        {
          "output_type": "execute_result",
          "data": {
            "application/vnd.google.colaboratory.intrinsic+json": {
              "type": "string"
            },
            "text/plain": [
              "'KKU'"
            ]
          },
          "metadata": {
            "tags": []
          },
          "execution_count": 67
        }
      ]
    },
    {
      "cell_type": "code",
      "metadata": {
        "colab": {
          "base_uri": "https://localhost:8080/",
          "height": 35
        },
        "id": "r580lP8cFzwa",
        "outputId": "66b1f019-8361-4797-a5f0-b246172c3d6e"
      },
      "source": [
        "a[5:8]"
      ],
      "execution_count": null,
      "outputs": [
        {
          "output_type": "execute_result",
          "data": {
            "application/vnd.google.colaboratory.intrinsic+json": {
              "type": "string"
            },
            "text/plain": [
              "'KKU'"
            ]
          },
          "metadata": {
            "tags": []
          },
          "execution_count": 68
        }
      ]
    },
    {
      "cell_type": "code",
      "metadata": {
        "colab": {
          "base_uri": "https://localhost:8080/",
          "height": 35
        },
        "id": "4deWpyD6F4SH",
        "outputId": "f03bac48-5c1d-4416-bfba-90d6866f462a"
      },
      "source": [
        "a[5::]"
      ],
      "execution_count": null,
      "outputs": [
        {
          "output_type": "execute_result",
          "data": {
            "application/vnd.google.colaboratory.intrinsic+json": {
              "type": "string"
            },
            "text/plain": [
              "'KKU'"
            ]
          },
          "metadata": {
            "tags": []
          },
          "execution_count": 69
        }
      ]
    },
    {
      "cell_type": "code",
      "metadata": {
        "colab": {
          "base_uri": "https://localhost:8080/",
          "height": 35
        },
        "id": "1X1WI8FxGGSz",
        "outputId": "12dfbd1b-0d84-4dc0-bf68-f4f841dd6c3c"
      },
      "source": [
        "a[-3::]"
      ],
      "execution_count": null,
      "outputs": [
        {
          "output_type": "execute_result",
          "data": {
            "application/vnd.google.colaboratory.intrinsic+json": {
              "type": "string"
            },
            "text/plain": [
              "'KKU'"
            ]
          },
          "metadata": {
            "tags": []
          },
          "execution_count": 70
        }
      ]
    },
    {
      "cell_type": "code",
      "metadata": {
        "colab": {
          "base_uri": "https://localhost:8080/",
          "height": 35
        },
        "id": "pPaU2ReXGVUU",
        "outputId": "ff272782-cd93-4637-cad1-b961235041e2"
      },
      "source": [
        "a[-3::1]"
      ],
      "execution_count": null,
      "outputs": [
        {
          "output_type": "execute_result",
          "data": {
            "application/vnd.google.colaboratory.intrinsic+json": {
              "type": "string"
            },
            "text/plain": [
              "'KKU'"
            ]
          },
          "metadata": {
            "tags": []
          },
          "execution_count": 71
        }
      ]
    },
    {
      "cell_type": "markdown",
      "metadata": {
        "id": "NC7iqlH8Go5d"
      },
      "source": [
        "### list + list"
      ]
    },
    {
      "cell_type": "code",
      "metadata": {
        "colab": {
          "base_uri": "https://localhost:8080/"
        },
        "id": "V3UIzfAwGjB1",
        "outputId": "d95f0f11-95cb-4d03-bf26-9351d18547dd"
      },
      "source": [
        "print (list_a)\n",
        "print (list_b)"
      ],
      "execution_count": null,
      "outputs": [
        {
          "output_type": "stream",
          "text": [
            "[1, 2, 0, 2, 'abs']\n",
            "[2, 'xyz', [1, 2, 0, 2, 'abs'], [1, 2, 0.0]]\n"
          ],
          "name": "stdout"
        }
      ]
    },
    {
      "cell_type": "code",
      "metadata": {
        "colab": {
          "base_uri": "https://localhost:8080/"
        },
        "id": "18kPrhqMG91i",
        "outputId": "81ce5c3f-5f0f-4deb-be17-1e5cfb16e6e5"
      },
      "source": [
        "list_a + list_b"
      ],
      "execution_count": null,
      "outputs": [
        {
          "output_type": "execute_result",
          "data": {
            "text/plain": [
              "[1, 2, 0, 2, 'abs', 2, 'xyz', [1, 2, 0, 2, 'abs'], [1, 2, 0.0]]"
            ]
          },
          "metadata": {
            "tags": []
          },
          "execution_count": 73
        }
      ]
    },
    {
      "cell_type": "markdown",
      "metadata": {
        "id": "WrtbVgZfLMAS"
      },
      "source": [
        "format sting \n",
        "จัดรูปแบบสตริงให้มันสวยงาม"
      ]
    },
    {
      "cell_type": "markdown",
      "metadata": {
        "id": "tBqyw0OdL4KO"
      },
      "source": [
        "```\n",
        "f 'string {ตัวแปร}'\n",
        "```"
      ]
    },
    {
      "cell_type": "code",
      "metadata": {
        "colab": {
          "base_uri": "https://localhost:8080/",
          "height": 35
        },
        "id": "TIgnWPCzLZjb",
        "outputId": "1c791b51-8a83-47df-b159-437dd99d1bc6"
      },
      "source": [
        "f'ตัวแปร list_a มีค่าคือ {list_a}' #เอาตัวหนังสือมาผสมกันได้ "
      ],
      "execution_count": null,
      "outputs": [
        {
          "output_type": "execute_result",
          "data": {
            "application/vnd.google.colaboratory.intrinsic+json": {
              "type": "string"
            },
            "text/plain": [
              "\"ตัวแปร list_a มีค่าคือ [1, 2, 0, 2, 'abs']\""
            ]
          },
          "metadata": {
            "tags": []
          },
          "execution_count": 74
        }
      ]
    },
    {
      "cell_type": "markdown",
      "metadata": {
        "id": "0kOwhLHlHm7c"
      },
      "source": [
        "# Loop"
      ]
    },
    {
      "cell_type": "markdown",
      "metadata": {
        "id": "324gVtIEKZkk"
      },
      "source": [
        "```\n",
        "for ตัวแปรที่จะรับค่าลิสต์ in ลิสต์ที่จะนำมาวนลูป :\n",
        "  do someting\n",
        "  ```\n"
      ]
    },
    {
      "cell_type": "code",
      "metadata": {
        "colab": {
          "base_uri": "https://localhost:8080/"
        },
        "id": "n-c1IZdBJ9cA",
        "outputId": "25d60e11-77aa-437b-9014-f1808391f5d5"
      },
      "source": [
        "for i in [1,2,3,4,5] :\n",
        "   print (i+1)"
      ],
      "execution_count": 1,
      "outputs": [
        {
          "output_type": "stream",
          "text": [
            "2\n",
            "3\n",
            "4\n",
            "5\n",
            "6\n"
          ],
          "name": "stdout"
        }
      ]
    },
    {
      "cell_type": "code",
      "metadata": {
        "colab": {
          "base_uri": "https://localhost:8080/"
        },
        "id": "_mzpvclCMmZY",
        "outputId": "fe0a0925-3635-4b1a-e4ae-56caebac0d8d"
      },
      "source": [
        "list5=[1,2,3,4,5]\n",
        "for x in list5 :\n",
        "    print (f'ค่าตัวแปร x คือ {x} และ x+2={x+2}' )"
      ],
      "execution_count": 2,
      "outputs": [
        {
          "output_type": "stream",
          "text": [
            "ค่าตัวแปร x คือ 1 และ x+2=3\n",
            "ค่าตัวแปร x คือ 2 และ x+2=4\n",
            "ค่าตัวแปร x คือ 3 และ x+2=5\n",
            "ค่าตัวแปร x คือ 4 และ x+2=6\n",
            "ค่าตัวแปร x คือ 5 และ x+2=7\n"
          ],
          "name": "stdout"
        }
      ]
    },
    {
      "cell_type": "code",
      "metadata": {
        "colab": {
          "base_uri": "https://localhost:8080/"
        },
        "id": "9jUslfrzNqv-",
        "outputId": "7f7a5cbf-f851-4cdd-b6a2-b64d95a0cdb8"
      },
      "source": [
        "list (range(10))"
      ],
      "execution_count": 3,
      "outputs": [
        {
          "output_type": "execute_result",
          "data": {
            "text/plain": [
              "[0, 1, 2, 3, 4, 5, 6, 7, 8, 9]"
            ]
          },
          "metadata": {
            "tags": []
          },
          "execution_count": 3
        }
      ]
    },
    {
      "cell_type": "code",
      "metadata": {
        "colab": {
          "base_uri": "https://localhost:8080/"
        },
        "id": "YKa0anP8NyoH",
        "outputId": "dc9d9a1f-3802-4815-8860-4002c4b9a02c"
      },
      "source": [
        "for i in range (2,7,2) :\n",
        "    print(i)"
      ],
      "execution_count": 4,
      "outputs": [
        {
          "output_type": "stream",
          "text": [
            "2\n",
            "4\n",
            "6\n"
          ],
          "name": "stdout"
        }
      ]
    },
    {
      "cell_type": "code",
      "metadata": {
        "colab": {
          "base_uri": "https://localhost:8080/"
        },
        "id": "1d7t0SioORIg",
        "outputId": "865c2bf9-5a6e-47e4-f10a-3a0383f12264"
      },
      "source": [
        "for i in range (5) :\n",
        "  print ('hahaha')"
      ],
      "execution_count": 5,
      "outputs": [
        {
          "output_type": "stream",
          "text": [
            "hahaha\n",
            "hahaha\n",
            "hahaha\n",
            "hahaha\n",
            "hahaha\n"
          ],
          "name": "stdout"
        }
      ]
    },
    {
      "cell_type": "code",
      "metadata": {
        "colab": {
          "base_uri": "https://localhost:8080/"
        },
        "id": "-SW6vo48OjzM",
        "outputId": "5e2f2847-6f29-4a46-c30b-f2ed0d3e562c"
      },
      "source": [
        "for i in range (5) : \n",
        "  print ('hahaha')\n",
        "  x = i + 3 \n",
        "  print (f'i={i} x={x}')"
      ],
      "execution_count": 6,
      "outputs": [
        {
          "output_type": "stream",
          "text": [
            "hahaha\n",
            "i=0 x=3\n",
            "hahaha\n",
            "i=1 x=4\n",
            "hahaha\n",
            "i=2 x=5\n",
            "hahaha\n",
            "i=3 x=6\n",
            "hahaha\n",
            "i=4 x=7\n"
          ],
          "name": "stdout"
        }
      ]
    },
    {
      "cell_type": "markdown",
      "metadata": {
        "id": "JTvtIiNDPBf1"
      },
      "source": [
        "### Nested loop"
      ]
    },
    {
      "cell_type": "code",
      "metadata": {
        "colab": {
          "base_uri": "https://localhost:8080/"
        },
        "id": "qIhbBkBYPNRv",
        "outputId": "217f98b8-1c5c-4e7e-c9ad-c023eac974e6"
      },
      "source": [
        "for i in range (3) :\n",
        "    print (f'now i = {i}')\n",
        "    print ('start j ioop')\n",
        "    for j in range (4) :\n",
        "          print (f'i = {i} j = {j} i+j = {i+j}')\n",
        "    print ( 'end j loop')"
      ],
      "execution_count": 8,
      "outputs": [
        {
          "output_type": "stream",
          "text": [
            "now i = 0\n",
            "start j ioop\n",
            "i = 0 j = 0 i+j = 0\n",
            "i = 0 j = 1 i+j = 1\n",
            "i = 0 j = 2 i+j = 2\n",
            "i = 0 j = 3 i+j = 3\n",
            "end j loop\n",
            "now i = 1\n",
            "start j ioop\n",
            "i = 1 j = 0 i+j = 1\n",
            "i = 1 j = 1 i+j = 2\n",
            "i = 1 j = 2 i+j = 3\n",
            "i = 1 j = 3 i+j = 4\n",
            "end j loop\n",
            "now i = 2\n",
            "start j ioop\n",
            "i = 2 j = 0 i+j = 2\n",
            "i = 2 j = 1 i+j = 3\n",
            "i = 2 j = 2 i+j = 4\n",
            "i = 2 j = 3 i+j = 5\n",
            "end j loop\n"
          ],
          "name": "stdout"
        }
      ]
    },
    {
      "cell_type": "markdown",
      "metadata": {
        "id": "o4T6J1NGHtDe"
      },
      "source": [
        "## Condition (if sratement )\n"
      ]
    },
    {
      "cell_type": "code",
      "metadata": {
        "colab": {
          "base_uri": "https://localhost:8080/"
        },
        "id": "4in5k7KoJKJd",
        "outputId": "50b1058b-476e-4f9a-d195-62de95d0931d"
      },
      "source": [
        "stringx = 'gdhjhkiklip;p;lmnbvcde7uklokyjhretkgfdsk' #\n",
        "\n",
        "if len (stringx) > 30:\n",
        "    print (f'{stringx} is loher than 30 characters')\n",
        "else:\n",
        "    print(f'{stringx} in {len (stringx)} characters long')"
      ],
      "execution_count": 10,
      "outputs": [
        {
          "output_type": "stream",
          "text": [
            "gdhjhkiklip;p;lmnbvcde7uklokyjhretkgfdsk is loher than 30 characters\n"
          ],
          "name": "stdout"
        }
      ]
    },
    {
      "cell_type": "markdown",
      "metadata": {
        "id": "wXsl5ObaFuBs"
      },
      "source": [
        "```python\n",
        "if เงื่อนไขที่จะตรวจสอบ:(โดยใช้สัญลักษณ์ ==,!=,<,>,<=,>=):\n",
        "   ถ้าเงื่อนไขเป็นจริง ทำงาน 1\n",
        "   ถ้าเงื่อนไขเป็นจริง ทำงาน 2\n",
        "else: #ตรวจสอบเงื่อนไขข้างบนแล้วไม่เป็นจริง\n",
        "    ทำงานที่ x\n",
        "\n",
        "```"
      ]
    },
    {
      "cell_type": "code",
      "metadata": {
        "colab": {
          "base_uri": "https://localhost:8080/"
        },
        "id": "VprscyilFpST",
        "outputId": "d60960e5-e607-4e7c-bc38-79dc544cb7d8"
      },
      "source": [
        "stringx = 'gdhjhkiklip;p;lmnbvcde7uklokyjhretkgfdsk' #\n",
        "\n",
        "if len (stringx) > 100:\n",
        "    print (f'{stringx} is loher than 30 characters')\n",
        "else:\n",
        "    print(f'{stringx} in {len (stringx)} characters long')"
      ],
      "execution_count": 12,
      "outputs": [
        {
          "output_type": "stream",
          "text": [
            "gdhjhkiklip;p;lmnbvcde7uklokyjhretkgfdsk in 40 characters long\n"
          ],
          "name": "stdout"
        }
      ]
    },
    {
      "cell_type": "markdown",
      "metadata": {
        "id": "CMV_TusQJmNg"
      },
      "source": [
        "```python\n",
        "if เงื่อนไขที่จะตรวจสอบ:(โดยใช้สัญลักษณ์ ==,!=,<,>,<=,>=):\n",
        "   ถ้าเงื่อนไขเป็นจริง ทำงาน 1ถ้าเงื่อนไขเป็นจริง ทำงาน 1\n",
        "   ถ้าเงื่อนไขเป็นจริง ทำงาน 2\n",
        "elif เงื่อนไขที่จะตรวจสอบต่อไปถ้าเงื่อนไขข้างบนไม่เป็นจริง:\n",
        "    ถ้าเงื่อนไขเป็นจริง ทำงาน a1\n",
        "    ถ้าเงื่อนไขเป็นจริง ทำงาน a2\n",
        "elif เงื่อนไขที่จะตรวจสอบต่อไปถ้าเงื่อนไขข้างบนไม่เป็นจริง:\n",
        "    ถ้าเงื่อนไขเป็นจริง ทำงาน b1\n",
        "    ถ้าเงื่อนไขเป็นจริง ทำงาน b2\n",
        "else: #ตรวจสอบเงื่อนไขข้างบนแล้วไม่เป็นจริง\n",
        "    ทำงานที่ x\n",
        "\n",
        "```"
      ]
    },
    {
      "cell_type": "code",
      "metadata": {
        "colab": {
          "base_uri": "https://localhost:8080/"
        },
        "id": "mdWpa7BXLG94",
        "outputId": "a956c5b6-2d13-46b9-93de-af32e74f3ed9"
      },
      "source": [
        "password = '12345'\n",
        "\n",
        "input_pass = '123sf'\n",
        "if input_pass == password:\n",
        "    print('Welcome!')\n",
        "elif len(input_pass) > len (password) :\n",
        "    print('Too long, try again!')\n",
        "elif len(input_pass) < len(password) :\n",
        "     print('Too short, try again!')\n",
        "else:\n",
        "      print('Wrong password, try again!')"
      ],
      "execution_count": 14,
      "outputs": [
        {
          "output_type": "stream",
          "text": [
            "Wrong password, try again!\n"
          ],
          "name": "stdout"
        }
      ]
    },
    {
      "cell_type": "markdown",
      "metadata": {
        "id": "BwBqamC0K5id"
      },
      "source": [
        "Quiz 1 หา min"
      ]
    },
    {
      "cell_type": "code",
      "metadata": {
        "id": "SI6b2Yl7OYeL"
      },
      "source": [
        "list_ex = [1,5,9,-19,-2,0] #หาค่าน้อยที่สุดใน list_ex โดยไม่ใช้ function min "
      ],
      "execution_count": 16,
      "outputs": []
    },
    {
      "cell_type": "code",
      "metadata": {
        "id": "wk93vF6JSk59",
        "colab": {
          "base_uri": "https://localhost:8080/"
        },
        "outputId": "10cbdeb7-6d42-4af3-beda-855c25cd0eee"
      },
      "source": [
        "#เฉลย\n",
        "min = 1000000 #กำหนดค่า min ให้เยอะๆก่อน\n",
        "for i in list_ex:  #เช็ค min\n",
        "      if i < min:\n",
        "          min = i\n",
        "print(min)"
      ],
      "execution_count": 17,
      "outputs": [
        {
          "output_type": "stream",
          "text": [
            "-19\n"
          ],
          "name": "stdout"
        }
      ]
    },
    {
      "cell_type": "code",
      "metadata": {
        "colab": {
          "base_uri": "https://localhost:8080/"
        },
        "id": "2zbUXoIWP036",
        "outputId": "caf32cf6-1939-45e6-f9ed-a5991df650b5"
      },
      "source": [
        "list_ex[3: 4 : 2] #โค้ดนี่้ทำเอง"
      ],
      "execution_count": 18,
      "outputs": [
        {
          "output_type": "execute_result",
          "data": {
            "text/plain": [
              "[-19]"
            ]
          },
          "metadata": {
            "tags": []
          },
          "execution_count": 18
        }
      ]
    },
    {
      "cell_type": "code",
      "metadata": {
        "id": "5udOSyFqUGIv",
        "colab": {
          "base_uri": "https://localhost:8080/"
        },
        "outputId": "d0a25d5f-17f5-4ca7-9a73-fd694b07875b"
      },
      "source": [
        "min = 100000000\n",
        "print(list_ex)\n",
        "for i in list_ex:\n",
        "    print(f'now i = {i}, min = {min}')\n",
        "    print('start condition')\n",
        "    if i < min:\n",
        "        print(f'i < min, update min -> {i}')\n",
        "        min = i\n",
        "    else:\n",
        "        print('i >= min, not update')\n",
        "    print('end condition, go to next i')\n",
        "\n",
        "print(min)"
      ],
      "execution_count": 20,
      "outputs": [
        {
          "output_type": "stream",
          "text": [
            "[1, 5, 9, -19, -2, 0]\n",
            "now i = 1, min = 100000000\n",
            "start condition\n",
            "i < min, update min -> 1\n",
            "end condition, go to next i\n",
            "now i = 5, min = 1\n",
            "start condition\n",
            "i >= min, not update\n",
            "end condition, go to next i\n",
            "now i = 9, min = 1\n",
            "start condition\n",
            "i >= min, not update\n",
            "end condition, go to next i\n",
            "now i = -19, min = 1\n",
            "start condition\n",
            "i < min, update min -> -19\n",
            "end condition, go to next i\n",
            "now i = -2, min = -19\n",
            "start condition\n",
            "i >= min, not update\n",
            "end condition, go to next i\n",
            "now i = 0, min = -19\n",
            "start condition\n",
            "i >= min, not update\n",
            "end condition, go to next i\n",
            "-19\n"
          ],
          "name": "stdout"
        }
      ]
    },
    {
      "cell_type": "markdown",
      "metadata": {
        "id": "IQ7PYctALCwH"
      },
      "source": [
        "##HW 3 ตัดเกรด"
      ]
    },
    {
      "cell_type": "code",
      "metadata": {
        "id": "EqxOJa74W0hg"
      },
      "source": [
        "score = [49,65,70,95,82,55,89,20,77,77,81,59,10] #ตัดเกรด คะแนนใน list score (ใช้ if กับ for)"
      ],
      "execution_count": 22,
      "outputs": []
    },
    {
      "cell_type": "code",
      "metadata": {
        "id": "-34gXeADY0Qg",
        "colab": {
          "base_uri": "https://localhost:8080/"
        },
        "outputId": "ca4799a6-2dcd-4277-b0bc-2f1121314342"
      },
      "source": [
        "for i in score:\n",
        "\n",
        "  if i >= 80:\n",
        "    print(f'{i} = A')\n",
        "  elif i >= 75 and i < 80:\n",
        "    print(f'{i} = B+')\n",
        "  elif i >= 70 and i < 75:\n",
        "    print(f'{i} = B')\n",
        "  elif i >= 65 and i < 70:\n",
        "    print(f'{i} = C+')\n",
        "  elif i >= 60 and i < 65:\n",
        "    print(f'{i} = C')\n",
        "  elif i >= 55 and i < 60:\n",
        "    print(f'{i} = D+')\n",
        "  elif i >= 50 and i < 55:\n",
        "    print(f'{i} = D')\n",
        "  else:\n",
        "    print(f'{i} = F')"
      ],
      "execution_count": 24,
      "outputs": [
        {
          "output_type": "stream",
          "text": [
            "49 = F\n",
            "65 = C+\n",
            "70 = B\n",
            "95 = A\n",
            "82 = A\n",
            "55 = D+\n",
            "89 = A\n",
            "20 = F\n",
            "77 = B+\n",
            "77 = B+\n",
            "81 = A\n",
            "59 = D+\n",
            "10 = F\n"
          ],
          "name": "stdout"
        }
      ]
    },
    {
      "cell_type": "markdown",
      "metadata": {
        "id": "XLDcu8cfFdxT"
      },
      "source": [
        "##Function\n",
        "\n",
        "```python\n",
        "def ชื่อฟังก์ชัน(input1,input2,....):\n",
        "      งานxxx\n",
        "      งานyyy\n",
        "      return output\n",
        "```\n",
        "\n",
        "ส่วนประกอบสำคัญ\n",
        "*   input\n",
        "*   process (ไม่มีไม่ได้)\n",
        "*   output\n",
        "\n",
        "![image.png](data:image/png;base64,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)"
      ]
    },
    {
      "cell_type": "markdown",
      "metadata": {
        "id": "dgNEZxb6yy1K"
      },
      "source": [
        "## Example 1"
      ]
    },
    {
      "cell_type": "code",
      "metadata": {
        "id": "vi6-IzUQwV4o"
      },
      "source": [
        "def grading(score):\n",
        "    if score >= 80:\n",
        "        grade = 'A'\n",
        "    elif score >= 75:\n",
        "        grade = 'B+'\n",
        "    elif score >= 70:\n",
        "        grade = 'B' \n",
        "    elif score >= 65:\n",
        "        grade = 'C+'\n",
        "    elif score >= 60:\n",
        "        grade = 'C'\n",
        "    elif score >= 55:\n",
        "        grade = 'D+'\n",
        "    elif score >= 50:\n",
        "        grade = 'D'\n",
        "    else:\n",
        "        grade = 'F'\n",
        "\n",
        "    return grade"
      ],
      "execution_count": 28,
      "outputs": []
    },
    {
      "cell_type": "code",
      "metadata": {
        "colab": {
          "base_uri": "https://localhost:8080/"
        },
        "id": "cSEkO3bx5Di-",
        "outputId": "6d7fa4b3-5269-4a5e-e42d-d19d2511cb3c"
      },
      "source": [
        "score = [49,65,70,95,82,55,89,20,77,77,81,59,10]\n",
        "for i in score:\n",
        "     print (f'คะแนน {i} ได้เกรด {grading(i)} ')"
      ],
      "execution_count": 29,
      "outputs": [
        {
          "output_type": "stream",
          "text": [
            "คะแนน 49 ได้เกรด F \n",
            "คะแนน 65 ได้เกรด C+ \n",
            "คะแนน 70 ได้เกรด B \n",
            "คะแนน 95 ได้เกรด A \n",
            "คะแนน 82 ได้เกรด A \n",
            "คะแนน 55 ได้เกรด D+ \n",
            "คะแนน 89 ได้เกรด A \n",
            "คะแนน 20 ได้เกรด F \n",
            "คะแนน 77 ได้เกรด B+ \n",
            "คะแนน 77 ได้เกรด B+ \n",
            "คะแนน 81 ได้เกรด A \n",
            "คะแนน 59 ได้เกรด D+ \n",
            "คะแนน 10 ได้เกรด F \n"
          ],
          "name": "stdout"
        }
      ]
    },
    {
      "cell_type": "code",
      "metadata": {
        "id": "_x2lLBy7G_Kq"
      },
      "source": [
        "def grading_list(list_score):\n",
        "    grade_list = []\n",
        "    for score in list_score:\n",
        "        if score >= 80:\n",
        "            grade = 'A'\n",
        "        elif score >= 75:\n",
        "            grade = 'B+'\n",
        "        elif score >= 70:\n",
        "            grade = 'B'\n",
        "        elif score >= 65:\n",
        "            grade = 'C+'\n",
        "        elif score >= 60:\n",
        "            grade = 'C'\n",
        "        elif score >= 55:\n",
        "            grade = 'D+'\n",
        "        elif score >= 50:\n",
        "            grade = 'D'\n",
        "        else:\n",
        "            grade = 'F'\n",
        "        grade_list.append([score,grade])\n",
        "    return grade_list"
      ],
      "execution_count": 36,
      "outputs": []
    },
    {
      "cell_type": "code",
      "metadata": {
        "colab": {
          "base_uri": "https://localhost:8080/"
        },
        "id": "psLok21LHCb2",
        "outputId": "518178bd-9f00-4c28-9aee-9b4025c974d9"
      },
      "source": [
        "g = grading_list(score)\n",
        "g"
      ],
      "execution_count": 37,
      "outputs": [
        {
          "output_type": "execute_result",
          "data": {
            "text/plain": [
              "[[49, 'F'],\n",
              " [65, 'C+'],\n",
              " [70, 'B'],\n",
              " [95, 'A'],\n",
              " [82, 'A'],\n",
              " [55, 'D+'],\n",
              " [89, 'A'],\n",
              " [20, 'F'],\n",
              " [77, 'B+'],\n",
              " [77, 'B+'],\n",
              " [81, 'A'],\n",
              " [59, 'D+'],\n",
              " [10, 'F']]"
            ]
          },
          "metadata": {
            "tags": []
          },
          "execution_count": 37
        }
      ]
    },
    {
      "cell_type": "code",
      "metadata": {
        "colab": {
          "base_uri": "https://localhost:8080/"
        },
        "id": "cH7vYl2LHKmZ",
        "outputId": "92c2ea20-aed8-4068-b4a4-9f01c6bf33f8"
      },
      "source": [
        "for i in g:\n",
        "    print(f'คะแนน {i[0]} ได้เกรด {i[1]}')"
      ],
      "execution_count": 38,
      "outputs": [
        {
          "output_type": "stream",
          "text": [
            "คะแนน 49 ได้เกรด F\n",
            "คะแนน 65 ได้เกรด C+\n",
            "คะแนน 70 ได้เกรด B\n",
            "คะแนน 95 ได้เกรด A\n",
            "คะแนน 82 ได้เกรด A\n",
            "คะแนน 55 ได้เกรด D+\n",
            "คะแนน 89 ได้เกรด A\n",
            "คะแนน 20 ได้เกรด F\n",
            "คะแนน 77 ได้เกรด B+\n",
            "คะแนน 77 ได้เกรด B+\n",
            "คะแนน 81 ได้เกรด A\n",
            "คะแนน 59 ได้เกรด D+\n",
            "คะแนน 10 ได้เกรด F\n"
          ],
          "name": "stdout"
        }
      ]
    },
    {
      "cell_type": "code",
      "metadata": {
        "id": "Bu-EOF5VHSmk"
      },
      "source": [
        "def grading2(score):\n",
        "    if score >= 80:\n",
        "        return 'A'\n",
        "    elif score >= 75:\n",
        "        return 'B+'\n",
        "    elif score >= 70:\n",
        "        return 'B'\n",
        "    elif score >= 65:\n",
        "        return 'C+'\n",
        "    elif score >= 60:\n",
        "        return 'C'\n",
        "    elif score >= 55:\n",
        "        return 'D+'\n",
        "    elif score >= 50:\n",
        "        return 'D'\n",
        "    else:\n",
        "        return 'F'"
      ],
      "execution_count": 39,
      "outputs": []
    },
    {
      "cell_type": "code",
      "metadata": {
        "colab": {
          "base_uri": "https://localhost:8080/"
        },
        "id": "yjMNU3t2HVa2",
        "outputId": "1825cb56-3b5b-41ed-a348-565610556faa"
      },
      "source": [
        "score = [49,65,70,95,82,55,89,20,77,77,81,59,10]\n",
        "for i in score:\n",
        "    print(f'คะแนน {i} ได้เกรด {grading2(i)}')"
      ],
      "execution_count": 40,
      "outputs": [
        {
          "output_type": "stream",
          "text": [
            "คะแนน 49 ได้เกรด F\n",
            "คะแนน 65 ได้เกรด C+\n",
            "คะแนน 70 ได้เกรด B\n",
            "คะแนน 95 ได้เกรด A\n",
            "คะแนน 82 ได้เกรด A\n",
            "คะแนน 55 ได้เกรด D+\n",
            "คะแนน 89 ได้เกรด A\n",
            "คะแนน 20 ได้เกรด F\n",
            "คะแนน 77 ได้เกรด B+\n",
            "คะแนน 77 ได้เกรด B+\n",
            "คะแนน 81 ได้เกรด A\n",
            "คะแนน 59 ได้เกรด D+\n",
            "คะแนน 10 ได้เกรด F\n"
          ],
          "name": "stdout"
        }
      ]
    },
    {
      "cell_type": "markdown",
      "metadata": {
        "id": "FBlCs6GU9oA4"
      },
      "source": [
        "## Example 2 (ไม่มี input)"
      ]
    },
    {
      "cell_type": "code",
      "metadata": {
        "id": "iMrFU6un9YbA"
      },
      "source": [
        "def mypi():\n",
        "        return 3.14"
      ],
      "execution_count": 32,
      "outputs": []
    },
    {
      "cell_type": "code",
      "metadata": {
        "colab": {
          "base_uri": "https://localhost:8080/"
        },
        "id": "36GJb7Hw96O1",
        "outputId": "841fac55-f155-4085-bb98-001165c0d1bf"
      },
      "source": [
        "r=10\n",
        "print(f'รัศมี={r} จะมีเส้นรอบวง={2*mypi()*r}')\n"
      ],
      "execution_count": 41,
      "outputs": [
        {
          "output_type": "stream",
          "text": [
            "รัศมี=10 จะมีเส้นรอบวง=62.800000000000004\n"
          ],
          "name": "stdout"
        }
      ]
    },
    {
      "cell_type": "markdown",
      "metadata": {
        "id": "Vue1lFLuHgV0"
      },
      "source": [
        "## Example 3 (ไม่มี output)"
      ]
    },
    {
      "cell_type": "code",
      "metadata": {
        "id": "zapKyjH9HuLf"
      },
      "source": [
        "def grading_nooutput(score):\n",
        "    if i >= 80:\n",
        "        print('ได้เกรด A')\n",
        "    elif i >= 75:\n",
        "        print('ได้เกรด B+')\n",
        "    elif i >= 70:\n",
        "        print('ได้เกรด B')\n",
        "    elif i >= 65:\n",
        "        print('ได้เกรด C+')\n",
        "    elif i >= 60:\n",
        "        print('ได้เกรด C')\n",
        "    elif i >= 55:\n",
        "        print('ได้เกรด D+')\n",
        "    elif i >= 50:\n",
        "        print('ได้เกรด D')\n",
        "    else:\n",
        "        print('ได้เกรด F')"
      ],
      "execution_count": 43,
      "outputs": []
    },
    {
      "cell_type": "code",
      "metadata": {
        "colab": {
          "base_uri": "https://localhost:8080/"
        },
        "id": "nhf4wcbhHzct",
        "outputId": "efecf576-7c89-44fa-da34-4c628041b043"
      },
      "source": [
        "score = [49,65,70,95,82,55,89,20,77,77,81,59,10]\n",
        "for i in score:\n",
        "    print(f'คะแนน {i}', end=' ') \n",
        "    grading_nooutput(i)"
      ],
      "execution_count": 44,
      "outputs": [
        {
          "output_type": "stream",
          "text": [
            "คะแนน 49 ได้เกรด F\n",
            "คะแนน 65 ได้เกรด C+\n",
            "คะแนน 70 ได้เกรด B\n",
            "คะแนน 95 ได้เกรด A\n",
            "คะแนน 82 ได้เกรด A\n",
            "คะแนน 55 ได้เกรด D+\n",
            "คะแนน 89 ได้เกรด A\n",
            "คะแนน 20 ได้เกรด F\n",
            "คะแนน 77 ได้เกรด B+\n",
            "คะแนน 77 ได้เกรด B+\n",
            "คะแนน 81 ได้เกรด A\n",
            "คะแนน 59 ได้เกรด D+\n",
            "คะแนน 10 ได้เกรด F\n"
          ],
          "name": "stdout"
        }
      ]
    },
    {
      "cell_type": "markdown",
      "metadata": {
        "id": "r0UsfHwJH2Ad"
      },
      "source": [
        "## Example 3 (ไม่มี input และ output)"
      ]
    },
    {
      "cell_type": "code",
      "metadata": {
        "id": "Vs-NGWnHH8VI"
      },
      "source": [
        "def draw_rect():\n",
        "    print('=============')\n",
        "    print('|           |')\n",
        "    print('|           |')\n",
        "    print('=============')"
      ],
      "execution_count": 45,
      "outputs": []
    },
    {
      "cell_type": "code",
      "metadata": {
        "colab": {
          "base_uri": "https://localhost:8080/"
        },
        "id": "9We-WmvvIBvh",
        "outputId": "72d43994-ae7c-47db-8671-1b7e99baf439"
      },
      "source": [
        "draw_rect()\n",
        "draw_rect()"
      ],
      "execution_count": 46,
      "outputs": [
        {
          "output_type": "stream",
          "text": [
            "=============\n",
            "|           |\n",
            "|           |\n",
            "=============\n",
            "=============\n",
            "|           |\n",
            "|           |\n",
            "=============\n"
          ],
          "name": "stdout"
        }
      ]
    },
    {
      "cell_type": "markdown",
      "metadata": {
        "id": "wq92ZiOhIK8A"
      },
      "source": [
        "## ลักษณะของ input(paremeter,argument)\n",
        "\n",
        "*    จำเป็นต้องใส่ (non-default argument)\n",
        "*    ไม่จำเป็นต้องใส่ (default argument)"
      ]
    },
    {
      "cell_type": "markdown",
      "metadata": {
        "id": "eX4JRH13IgUN"
      },
      "source": [
        "HW 4"
      ]
    },
    {
      "cell_type": "code",
      "metadata": {
        "id": "5C5G1-YZIt_b"
      },
      "source": [
        "def draw_house(): # บ้าน\n",
        "    print('       ___________')\n",
        "    print('      //    ||     \\\\')\n",
        "    print('     //     ||      \\\\')\n",
        "    print('    //      ||       \\\\')\n",
        "    print('    ===================')\n",
        "    print('    ====================')\n",
        "    print('    |       ___      |')\n",
        "    print('    |       |  .|      |')\n",
        "    print('    |       |   |      |')\n",
        "    print('    ====================')\n"
      ],
      "execution_count": 48,
      "outputs": []
    }
  ]
}